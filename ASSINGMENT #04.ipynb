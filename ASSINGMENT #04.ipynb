{
 "cells": [
  {
   "cell_type": "code",
   "execution_count": 1,
   "metadata": {},
   "outputs": [
    {
     "name": "stdout",
     "output_type": "stream",
     "text": [
      "{'first_name': 'WAQAR_AHMED', 'last_name': 'TUNIO', 'age': 19, 'city': 'Hyderabad'}\n"
     ]
    }
   ],
   "source": [
    "person = {\"first_name\" : \"WAQAR_AHMED\" , \"last_name\" : \"TUNIO\",\"age\" : 19, \"city\" : \"Hyderabad\"}\n",
    "person[\"Qualification\"] = \"Intermediate\" \n",
    "person[\"Qualification\"] = \"B.E\"\n",
    "del person[\"Qualification\"]\n",
    "print(person)"
   ]
  },
  {
   "cell_type": "code",
   "execution_count": 5,
   "metadata": {},
   "outputs": [
    {
     "name": "stdout",
     "output_type": "stream",
     "text": [
      "City name is  Karachi\n",
      "- Country Pakistan\n",
      "- Population 2.9 Crore\n",
      "- fact City of  Lights\n",
      "\n",
      "City name is  Mexicoo city\n",
      "- Country Mexico\n",
      "- Population 2 Crore\n",
      "- fact Financial Hub\n",
      "\n",
      "City name is  Lahore\n",
      "- Country Pakistan\n",
      "- Population 1.1 Crore\n",
      "- fact City of  flowers\n",
      "\n"
     ]
    }
   ],
   "source": [
    "cities = { \"Karachi\" : {\"Country\" : 'Pakistan', \"Population\" : \"2.9 Crore\" , \"fact\" : 'City of  Lights'}, \n",
    "        \"Mexicoo city\" :{\"Country\" : \"Mexico\", \"Population\" : \"2 Crore\" , \"fact\" : 'Financial Hub'},\n",
    "         \"Lahore\" : {\"Country\" : 'Pakistan', \"Population\" : \"1.1 Crore\" , \"fact\" : 'City of  flowers'}}\n",
    "for key, value in cities.items():\n",
    "    print(\"City name is \", key)\n",
    "    for k, v in value.items():\n",
    "        print(\"-\", k, v)\n",
    "    print()\n",
    "\n",
    "    "
   ]
  },
  {
   "cell_type": "code",
   "execution_count": null,
   "metadata": {},
   "outputs": [
    {
     "name": "stdout",
     "output_type": "stream",
     "text": [
      "Please Enter Your Age19\n",
      "Your ticket cost is $12\n",
      "Please Enter Your Age14\n",
      "Your ticket cost is $12\n",
      "Please Enter Your Age22\n",
      "Your ticket cost is $12\n",
      "Please Enter Your Age50\n",
      "Your ticket cost is $12\n"
     ]
    }
   ],
   "source": [
    "while True:\n",
    "    age  = input(\"Please Enter Your Age\")\n",
    "    if age.upper() == \"Q\":\n",
    "        break\n",
    "    elif int(age) < 3 :\n",
    "        print(\"Your Ticket Is Free\")\n",
    "    elif int(age)  <12:\n",
    "        print(\"Your ticket cost if $10\")\n",
    "    else :\n",
    "        print(\"Your ticket cost is $12\")"
   ]
  },
  {
   "cell_type": "code",
   "execution_count": null,
   "metadata": {},
   "outputs": [],
   "source": [
    "def favorite_book(title):\n",
    "    print(\"One of my favorite book is\", title)"
   ]
  },
  {
   "cell_type": "code",
   "execution_count": null,
   "metadata": {},
   "outputs": [],
   "source": [
    "favorite_book(\"Themrodynamics\")"
   ]
  },
  {
   "cell_type": "code",
   "execution_count": 4,
   "metadata": {},
   "outputs": [
    {
     "name": "stdout",
     "output_type": "stream",
     "text": [
      "Please guess a number b/w 1 and 30\t12\n",
      "Your guess number is less than entered number\n",
      "Please guess a number b/w 1 and 30\t12\n",
      "Your guess number is less than entered number\n",
      "Please guess a number b/w 1 and 30\t12\n"
     ]
    }
   ],
   "source": [
    "import random\n",
    "flag = True\n",
    "rn = random.randint(1, 30)\n",
    "chances = 0\n",
    "while chances < 3:\n",
    "    if chances > 0:\n",
    "        if n > rn:\n",
    "            print(\"Your guess number is less than entered number\")\n",
    "        else :\n",
    "            print(\"Your guess number is  greater than entered number\")\n",
    "    n = int(input(\"Please guess a number b/w 1 and 30\\t\"))\n",
    "    if n == rn:\n",
    "        print(\"You guess correct\")\n",
    "    else:\n",
    "        chances = chances + 1"
   ]
  },
  {
   "cell_type": "code",
   "execution_count": 5,
   "metadata": {},
   "outputs": [
    {
     "data": {
      "text/plain": [
       "5"
      ]
     },
     "execution_count": 5,
     "metadata": {},
     "output_type": "execute_result"
    }
   ],
   "source": [
    "rn"
   ]
  }
 ],
 "metadata": {
  "kernelspec": {
   "display_name": "Python 3",
   "language": "python",
   "name": "python3"
  },
  "language_info": {
   "codemirror_mode": {
    "name": "ipython",
    "version": 3
   },
   "file_extension": ".py",
   "mimetype": "text/x-python",
   "name": "python",
   "nbconvert_exporter": "python",
   "pygments_lexer": "ipython3",
   "version": "3.7.4"
  }
 },
 "nbformat": 4,
 "nbformat_minor": 2
}
